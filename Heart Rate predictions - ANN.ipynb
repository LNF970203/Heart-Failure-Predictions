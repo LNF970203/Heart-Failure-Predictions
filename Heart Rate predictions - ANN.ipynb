{
 "cells": [
  {
   "cell_type": "code",
   "execution_count": 20,
   "id": "e0d541b1",
   "metadata": {},
   "outputs": [],
   "source": [
    "import pandas as pd\n",
    "import numpy as np\n",
    "import seaborn as sns\n",
    "import matplotlib.pyplot as plt\n",
    "import tensorflow as tf\n",
    "from tensorflow import keras\n",
    "from sklearn.model_selection import train_test_split\n",
    "from sklearn.metrics import accuracy_score\n",
    "from tensorflow.keras import losses, optimizers"
   ]
  },
  {
   "cell_type": "code",
   "execution_count": 2,
   "id": "bd82d599",
   "metadata": {},
   "outputs": [],
   "source": [
    "data = pd.read_csv(\"C:\\Lachin\\DataSets\\Heart Failure Prediction\\heart_dummy.csv\")"
   ]
  },
  {
   "cell_type": "code",
   "execution_count": 3,
   "id": "1cd7370a",
   "metadata": {},
   "outputs": [
    {
     "data": {
      "text/html": [
       "<div>\n",
       "<style scoped>\n",
       "    .dataframe tbody tr th:only-of-type {\n",
       "        vertical-align: middle;\n",
       "    }\n",
       "\n",
       "    .dataframe tbody tr th {\n",
       "        vertical-align: top;\n",
       "    }\n",
       "\n",
       "    .dataframe thead th {\n",
       "        text-align: right;\n",
       "    }\n",
       "</style>\n",
       "<table border=\"1\" class=\"dataframe\">\n",
       "  <thead>\n",
       "    <tr style=\"text-align: right;\">\n",
       "      <th></th>\n",
       "      <th>Age</th>\n",
       "      <th>RestingBP</th>\n",
       "      <th>Cholesterol</th>\n",
       "      <th>MaxHR</th>\n",
       "      <th>Oldpeak</th>\n",
       "      <th>HeartDisease</th>\n",
       "      <th>Sex_M</th>\n",
       "      <th>ChestPainType_ATA</th>\n",
       "      <th>ChestPainType_NAP</th>\n",
       "      <th>ChestPainType_TA</th>\n",
       "      <th>FastingBS_1</th>\n",
       "      <th>RestingECG_Normal</th>\n",
       "      <th>RestingECG_ST</th>\n",
       "      <th>ExerciseAngina_Y</th>\n",
       "      <th>ST_Slope_Flat</th>\n",
       "      <th>ST_Slope_Up</th>\n",
       "    </tr>\n",
       "  </thead>\n",
       "  <tbody>\n",
       "    <tr>\n",
       "      <th>0</th>\n",
       "      <td>40</td>\n",
       "      <td>140</td>\n",
       "      <td>289</td>\n",
       "      <td>172</td>\n",
       "      <td>0.0</td>\n",
       "      <td>0</td>\n",
       "      <td>1</td>\n",
       "      <td>1</td>\n",
       "      <td>0</td>\n",
       "      <td>0</td>\n",
       "      <td>0</td>\n",
       "      <td>1</td>\n",
       "      <td>0</td>\n",
       "      <td>0</td>\n",
       "      <td>0</td>\n",
       "      <td>1</td>\n",
       "    </tr>\n",
       "    <tr>\n",
       "      <th>1</th>\n",
       "      <td>49</td>\n",
       "      <td>160</td>\n",
       "      <td>180</td>\n",
       "      <td>156</td>\n",
       "      <td>1.0</td>\n",
       "      <td>1</td>\n",
       "      <td>0</td>\n",
       "      <td>0</td>\n",
       "      <td>1</td>\n",
       "      <td>0</td>\n",
       "      <td>0</td>\n",
       "      <td>1</td>\n",
       "      <td>0</td>\n",
       "      <td>0</td>\n",
       "      <td>1</td>\n",
       "      <td>0</td>\n",
       "    </tr>\n",
       "    <tr>\n",
       "      <th>2</th>\n",
       "      <td>37</td>\n",
       "      <td>130</td>\n",
       "      <td>283</td>\n",
       "      <td>98</td>\n",
       "      <td>0.0</td>\n",
       "      <td>0</td>\n",
       "      <td>1</td>\n",
       "      <td>1</td>\n",
       "      <td>0</td>\n",
       "      <td>0</td>\n",
       "      <td>0</td>\n",
       "      <td>0</td>\n",
       "      <td>1</td>\n",
       "      <td>0</td>\n",
       "      <td>0</td>\n",
       "      <td>1</td>\n",
       "    </tr>\n",
       "    <tr>\n",
       "      <th>3</th>\n",
       "      <td>48</td>\n",
       "      <td>138</td>\n",
       "      <td>214</td>\n",
       "      <td>108</td>\n",
       "      <td>1.5</td>\n",
       "      <td>1</td>\n",
       "      <td>0</td>\n",
       "      <td>0</td>\n",
       "      <td>0</td>\n",
       "      <td>0</td>\n",
       "      <td>0</td>\n",
       "      <td>1</td>\n",
       "      <td>0</td>\n",
       "      <td>1</td>\n",
       "      <td>1</td>\n",
       "      <td>0</td>\n",
       "    </tr>\n",
       "    <tr>\n",
       "      <th>4</th>\n",
       "      <td>54</td>\n",
       "      <td>150</td>\n",
       "      <td>195</td>\n",
       "      <td>122</td>\n",
       "      <td>0.0</td>\n",
       "      <td>0</td>\n",
       "      <td>1</td>\n",
       "      <td>0</td>\n",
       "      <td>1</td>\n",
       "      <td>0</td>\n",
       "      <td>0</td>\n",
       "      <td>1</td>\n",
       "      <td>0</td>\n",
       "      <td>0</td>\n",
       "      <td>0</td>\n",
       "      <td>1</td>\n",
       "    </tr>\n",
       "  </tbody>\n",
       "</table>\n",
       "</div>"
      ],
      "text/plain": [
       "   Age  RestingBP  Cholesterol  MaxHR  Oldpeak  HeartDisease  Sex_M  \\\n",
       "0   40        140          289    172      0.0             0      1   \n",
       "1   49        160          180    156      1.0             1      0   \n",
       "2   37        130          283     98      0.0             0      1   \n",
       "3   48        138          214    108      1.5             1      0   \n",
       "4   54        150          195    122      0.0             0      1   \n",
       "\n",
       "   ChestPainType_ATA  ChestPainType_NAP  ChestPainType_TA  FastingBS_1  \\\n",
       "0                  1                  0                 0            0   \n",
       "1                  0                  1                 0            0   \n",
       "2                  1                  0                 0            0   \n",
       "3                  0                  0                 0            0   \n",
       "4                  0                  1                 0            0   \n",
       "\n",
       "   RestingECG_Normal  RestingECG_ST  ExerciseAngina_Y  ST_Slope_Flat  \\\n",
       "0                  1              0                 0              0   \n",
       "1                  1              0                 0              1   \n",
       "2                  0              1                 0              0   \n",
       "3                  1              0                 1              1   \n",
       "4                  1              0                 0              0   \n",
       "\n",
       "   ST_Slope_Up  \n",
       "0            1  \n",
       "1            0  \n",
       "2            1  \n",
       "3            0  \n",
       "4            1  "
      ]
     },
     "execution_count": 3,
     "metadata": {},
     "output_type": "execute_result"
    }
   ],
   "source": [
    "data.head()"
   ]
  },
  {
   "cell_type": "code",
   "execution_count": 4,
   "id": "60c6e186",
   "metadata": {},
   "outputs": [],
   "source": [
    "x = data.drop('HeartDisease', axis=1)\n",
    "y = data['HeartDisease']"
   ]
  },
  {
   "cell_type": "code",
   "execution_count": 5,
   "id": "a11d1976",
   "metadata": {},
   "outputs": [],
   "source": [
    "x_train,x_test,y_train,y_test = train_test_split(x,y,test_size=0.2,random_state=0)"
   ]
  },
  {
   "cell_type": "markdown",
   "id": "7d11334e",
   "metadata": {},
   "source": [
    "#### Model Architecture"
   ]
  },
  {
   "cell_type": "code",
   "execution_count": 6,
   "id": "1bccf80d",
   "metadata": {},
   "outputs": [],
   "source": [
    "model = keras.models.Sequential()\n",
    "model.add(keras.layers.Dense(100, activation='relu', input_shape = x_train.shape[1:]))\n",
    "model.add(keras.layers.Dense(100, activation='relu'))\n",
    "model.add(keras.layers.Dense(1, activation='sigmoid'))"
   ]
  },
  {
   "cell_type": "code",
   "execution_count": 7,
   "id": "45e17630",
   "metadata": {},
   "outputs": [
    {
     "name": "stdout",
     "output_type": "stream",
     "text": [
      "Model: \"sequential\"\n",
      "_________________________________________________________________\n",
      "Layer (type)                 Output Shape              Param #   \n",
      "=================================================================\n",
      "dense (Dense)                (None, 100)               1600      \n",
      "_________________________________________________________________\n",
      "dense_1 (Dense)              (None, 100)               10100     \n",
      "_________________________________________________________________\n",
      "dense_2 (Dense)              (None, 1)                 101       \n",
      "=================================================================\n",
      "Total params: 11,801\n",
      "Trainable params: 11,801\n",
      "Non-trainable params: 0\n",
      "_________________________________________________________________\n"
     ]
    }
   ],
   "source": [
    "model.summary()"
   ]
  },
  {
   "cell_type": "code",
   "execution_count": 10,
   "id": "6824d93b",
   "metadata": {},
   "outputs": [
    {
     "data": {
      "text/plain": [
       "[<tf.Variable 'dense/kernel:0' shape=(15, 100) dtype=float32, numpy=\n",
       " array([[ 0.21004833, -0.16673091, -0.22547054, ...,  0.13032104,\n",
       "          0.07349201, -0.01848751],\n",
       "        [ 0.22465585, -0.14273843,  0.19976257, ..., -0.04228981,\n",
       "          0.12022807, -0.04967897],\n",
       "        [ 0.22812055,  0.1551084 , -0.13298044, ..., -0.19231617,\n",
       "          0.21445693, -0.11307776],\n",
       "        ...,\n",
       "        [ 0.08761482, -0.02320221, -0.03473781, ..., -0.00750729,\n",
       "         -0.05139861,  0.00246523],\n",
       "        [ 0.20297427, -0.21509165, -0.06344867, ...,  0.18923931,\n",
       "          0.10806249, -0.00354433],\n",
       "        [-0.15045828, -0.07599039,  0.1949989 , ..., -0.13006717,\n",
       "          0.21338193, -0.12675738]], dtype=float32)>,\n",
       " <tf.Variable 'dense/bias:0' shape=(100,) dtype=float32, numpy=\n",
       " array([0., 0., 0., 0., 0., 0., 0., 0., 0., 0., 0., 0., 0., 0., 0., 0., 0.,\n",
       "        0., 0., 0., 0., 0., 0., 0., 0., 0., 0., 0., 0., 0., 0., 0., 0., 0.,\n",
       "        0., 0., 0., 0., 0., 0., 0., 0., 0., 0., 0., 0., 0., 0., 0., 0., 0.,\n",
       "        0., 0., 0., 0., 0., 0., 0., 0., 0., 0., 0., 0., 0., 0., 0., 0., 0.,\n",
       "        0., 0., 0., 0., 0., 0., 0., 0., 0., 0., 0., 0., 0., 0., 0., 0., 0.,\n",
       "        0., 0., 0., 0., 0., 0., 0., 0., 0., 0., 0., 0., 0., 0., 0.],\n",
       "       dtype=float32)>,\n",
       " <tf.Variable 'dense_1/kernel:0' shape=(100, 100) dtype=float32, numpy=\n",
       " array([[-0.04442975,  0.01423581,  0.07641631, ...,  0.13030133,\n",
       "          0.12828046,  0.02625799],\n",
       "        [-0.13241196,  0.04709594, -0.065683  , ..., -0.12531301,\n",
       "          0.10229179,  0.08144078],\n",
       "        [ 0.03172792, -0.10774606, -0.05631218, ...,  0.09200728,\n",
       "          0.02091381,  0.09618297],\n",
       "        ...,\n",
       "        [ 0.09041843, -0.00378476, -0.13030495, ..., -0.0454101 ,\n",
       "          0.02672219, -0.06181222],\n",
       "        [-0.11898421, -0.14687614, -0.0452825 , ...,  0.15473595,\n",
       "          0.07570553, -0.03421159],\n",
       "        [ 0.02139424,  0.04550095, -0.04135048, ...,  0.10917753,\n",
       "         -0.11368705,  0.03337437]], dtype=float32)>,\n",
       " <tf.Variable 'dense_1/bias:0' shape=(100,) dtype=float32, numpy=\n",
       " array([0., 0., 0., 0., 0., 0., 0., 0., 0., 0., 0., 0., 0., 0., 0., 0., 0.,\n",
       "        0., 0., 0., 0., 0., 0., 0., 0., 0., 0., 0., 0., 0., 0., 0., 0., 0.,\n",
       "        0., 0., 0., 0., 0., 0., 0., 0., 0., 0., 0., 0., 0., 0., 0., 0., 0.,\n",
       "        0., 0., 0., 0., 0., 0., 0., 0., 0., 0., 0., 0., 0., 0., 0., 0., 0.,\n",
       "        0., 0., 0., 0., 0., 0., 0., 0., 0., 0., 0., 0., 0., 0., 0., 0., 0.,\n",
       "        0., 0., 0., 0., 0., 0., 0., 0., 0., 0., 0., 0., 0., 0., 0.],\n",
       "       dtype=float32)>,\n",
       " <tf.Variable 'dense_2/kernel:0' shape=(100, 1) dtype=float32, numpy=\n",
       " array([[-0.2272551 ],\n",
       "        [ 0.1310687 ],\n",
       "        [-0.01310904],\n",
       "        [-0.01998527],\n",
       "        [ 0.01636219],\n",
       "        [ 0.16784036],\n",
       "        [-0.21574934],\n",
       "        [ 0.122881  ],\n",
       "        [ 0.22060162],\n",
       "        [-0.06245369],\n",
       "        [ 0.22468841],\n",
       "        [-0.23713256],\n",
       "        [ 0.15445316],\n",
       "        [-0.23237349],\n",
       "        [-0.03583783],\n",
       "        [ 0.17256516],\n",
       "        [-0.19891761],\n",
       "        [-0.06727605],\n",
       "        [ 0.08604455],\n",
       "        [-0.10732189],\n",
       "        [-0.10915063],\n",
       "        [-0.11879779],\n",
       "        [-0.00725318],\n",
       "        [-0.01061767],\n",
       "        [-0.10360666],\n",
       "        [-0.15821925],\n",
       "        [-0.15668792],\n",
       "        [ 0.03161547],\n",
       "        [-0.09417617],\n",
       "        [-0.06670232],\n",
       "        [ 0.19256136],\n",
       "        [ 0.19073716],\n",
       "        [-0.09751777],\n",
       "        [-0.05945948],\n",
       "        [ 0.146804  ],\n",
       "        [ 0.03880233],\n",
       "        [ 0.11452022],\n",
       "        [-0.23405468],\n",
       "        [ 0.03131333],\n",
       "        [-0.13455051],\n",
       "        [ 0.08357796],\n",
       "        [ 0.2085861 ],\n",
       "        [ 0.09800079],\n",
       "        [-0.13186756],\n",
       "        [-0.1065843 ],\n",
       "        [ 0.06342873],\n",
       "        [-0.1664001 ],\n",
       "        [ 0.20146495],\n",
       "        [ 0.22852728],\n",
       "        [-0.08254836],\n",
       "        [-0.20445612],\n",
       "        [ 0.09927508],\n",
       "        [-0.01699938],\n",
       "        [ 0.1504407 ],\n",
       "        [-0.14382717],\n",
       "        [-0.00779751],\n",
       "        [-0.1201516 ],\n",
       "        [-0.03382075],\n",
       "        [ 0.06986088],\n",
       "        [-0.03300203],\n",
       "        [ 0.08149156],\n",
       "        [ 0.19188064],\n",
       "        [-0.16531646],\n",
       "        [-0.20165113],\n",
       "        [-0.07533976],\n",
       "        [-0.09851936],\n",
       "        [-0.09789683],\n",
       "        [-0.1252482 ],\n",
       "        [-0.01596442],\n",
       "        [ 0.01096809],\n",
       "        [-0.14365633],\n",
       "        [-0.17148124],\n",
       "        [ 0.16754204],\n",
       "        [ 0.20396668],\n",
       "        [-0.04917938],\n",
       "        [ 0.21820173],\n",
       "        [-0.18244524],\n",
       "        [-0.14987653],\n",
       "        [ 0.17969418],\n",
       "        [ 0.17523432],\n",
       "        [-0.15576738],\n",
       "        [-0.18422598],\n",
       "        [-0.04025017],\n",
       "        [-0.15436885],\n",
       "        [-0.07678567],\n",
       "        [-0.04705009],\n",
       "        [-0.21349087],\n",
       "        [-0.17615965],\n",
       "        [-0.09149228],\n",
       "        [-0.22228724],\n",
       "        [-0.02777685],\n",
       "        [-0.02083403],\n",
       "        [ 0.2207636 ],\n",
       "        [-0.16733521],\n",
       "        [ 0.09967268],\n",
       "        [ 0.08051968],\n",
       "        [ 0.15808618],\n",
       "        [-0.03899486],\n",
       "        [-0.02944839],\n",
       "        [ 0.12026829]], dtype=float32)>,\n",
       " <tf.Variable 'dense_2/bias:0' shape=(1,) dtype=float32, numpy=array([0.], dtype=float32)>]"
      ]
     },
     "execution_count": 10,
     "metadata": {},
     "output_type": "execute_result"
    }
   ],
   "source": [
    "model.weights #Random weights assigned"
   ]
  },
  {
   "cell_type": "code",
   "execution_count": 12,
   "id": "9a3b8284",
   "metadata": {},
   "outputs": [],
   "source": [
    "weights, biases = model.layers[1].get_weights()"
   ]
  },
  {
   "cell_type": "code",
   "execution_count": 13,
   "id": "7d03b2ea",
   "metadata": {},
   "outputs": [
    {
     "name": "stdout",
     "output_type": "stream",
     "text": [
      "[[-0.04442975  0.01423581  0.07641631 ...  0.13030133  0.12828046\n",
      "   0.02625799]\n",
      " [-0.13241196  0.04709594 -0.065683   ... -0.12531301  0.10229179\n",
      "   0.08144078]\n",
      " [ 0.03172792 -0.10774606 -0.05631218 ...  0.09200728  0.02091381\n",
      "   0.09618297]\n",
      " ...\n",
      " [ 0.09041843 -0.00378476 -0.13030495 ... -0.0454101   0.02672219\n",
      "  -0.06181222]\n",
      " [-0.11898421 -0.14687614 -0.0452825  ...  0.15473595  0.07570553\n",
      "  -0.03421159]\n",
      " [ 0.02139424  0.04550095 -0.04135048 ...  0.10917753 -0.11368705\n",
      "   0.03337437]]\n"
     ]
    }
   ],
   "source": [
    "print(weights)"
   ]
  },
  {
   "cell_type": "code",
   "execution_count": 15,
   "id": "45bb6cc5",
   "metadata": {},
   "outputs": [
    {
     "name": "stdout",
     "output_type": "stream",
     "text": [
      "[0. 0. 0. 0. 0. 0. 0. 0. 0. 0. 0. 0. 0. 0. 0. 0. 0. 0. 0. 0. 0. 0. 0. 0.\n",
      " 0. 0. 0. 0. 0. 0. 0. 0. 0. 0. 0. 0. 0. 0. 0. 0. 0. 0. 0. 0. 0. 0. 0. 0.\n",
      " 0. 0. 0. 0. 0. 0. 0. 0. 0. 0. 0. 0. 0. 0. 0. 0. 0. 0. 0. 0. 0. 0. 0. 0.\n",
      " 0. 0. 0. 0. 0. 0. 0. 0. 0. 0. 0. 0. 0. 0. 0. 0. 0. 0. 0. 0. 0. 0. 0. 0.\n",
      " 0. 0. 0. 0.]\n"
     ]
    }
   ],
   "source": [
    "print(biases)"
   ]
  },
  {
   "cell_type": "code",
   "execution_count": 29,
   "id": "39ba3605",
   "metadata": {},
   "outputs": [],
   "source": [
    "model.compile(loss = 'binary_crossentropy', optimizer = optimizers.Adamax(), metrics=['acc'])"
   ]
  },
  {
   "cell_type": "code",
   "execution_count": 48,
   "id": "ec73f443",
   "metadata": {},
   "outputs": [
    {
     "name": "stdout",
     "output_type": "stream",
     "text": [
      "Epoch 1/10\n",
      "23/23 [==============================] - 0s 4ms/step - loss: 0.3379 - acc: 0.8525 - val_loss: 0.3035 - val_acc: 0.8596\n",
      "Epoch 2/10\n",
      "23/23 [==============================] - 0s 3ms/step - loss: 0.3370 - acc: 0.8596 - val_loss: 0.3023 - val_acc: 0.8652\n",
      "Epoch 3/10\n",
      "23/23 [==============================] - 0s 3ms/step - loss: 0.3376 - acc: 0.8539 - val_loss: 0.3023 - val_acc: 0.8652\n",
      "Epoch 4/10\n",
      "23/23 [==============================] - 0s 4ms/step - loss: 0.3369 - acc: 0.8596 - val_loss: 0.3026 - val_acc: 0.8596\n",
      "Epoch 5/10\n",
      "23/23 [==============================] - 0s 4ms/step - loss: 0.3390 - acc: 0.8624 - val_loss: 0.3012 - val_acc: 0.8652\n",
      "Epoch 6/10\n",
      "23/23 [==============================] - 0s 4ms/step - loss: 0.3363 - acc: 0.8525 - val_loss: 0.3019 - val_acc: 0.8652\n",
      "Epoch 7/10\n",
      "23/23 [==============================] - 0s 3ms/step - loss: 0.3355 - acc: 0.8581 - val_loss: 0.3023 - val_acc: 0.8652\n",
      "Epoch 8/10\n",
      "23/23 [==============================] - 0s 3ms/step - loss: 0.3373 - acc: 0.8638 - val_loss: 0.3009 - val_acc: 0.8596\n",
      "Epoch 9/10\n",
      "23/23 [==============================] - 0s 3ms/step - loss: 0.3358 - acc: 0.8553 - val_loss: 0.3003 - val_acc: 0.8652\n",
      "Epoch 10/10\n",
      "23/23 [==============================] - ETA: 0s - loss: 0.3687 - acc: 0.843 - 0s 3ms/step - loss: 0.3382 - acc: 0.8610 - val_loss: 0.2993 - val_acc: 0.8708\n"
     ]
    }
   ],
   "source": [
    "train_model = model.fit(x_train,y_train, validation_data=(x_test,y_test), epochs=10)"
   ]
  },
  {
   "cell_type": "code",
   "execution_count": 49,
   "id": "7ffaa8ad",
   "metadata": {},
   "outputs": [
    {
     "data": {
      "image/png": "[encoded data removed]",
      "text/plain": [
       "<Figure size 576x576 with 1 Axes>"
      ]
     },
     "metadata": {
      "needs_background": "light"
     },
     "output_type": "display_data"
    }
   ],
   "source": [
    "pd.DataFrame(train_model.history).plot(figsize=(8,8))\n",
    "plt.grid(True)\n",
    "plt.gca().set_ylim(0,1)\n",
    "plt.show()"
   ]
  },
  {
   "cell_type": "code",
   "execution_count": 64,
   "id": "6107761a",
   "metadata": {},
   "outputs": [
    {
     "name": "stdout",
     "output_type": "stream",
     "text": [
      "6/6 [==============================] - 0s 1ms/step - loss: 0.2993 - acc: 0.8708\n"
     ]
    },
    {
     "data": {
      "text/plain": [
       "[0.29931649565696716, 0.8707864880561829]"
      ]
     },
     "execution_count": 64,
     "metadata": {},
     "output_type": "execute_result"
    }
   ],
   "source": [
    "model.evaluate(x_test,y_test)"
   ]
  },
  {
   "cell_type": "code",
   "execution_count": 67,
   "id": "08eaf3a4",
   "metadata": {},
   "outputs": [
    {
     "name": "stderr",
     "output_type": "stream",
     "text": [
      "C:\\Users\\acer\\anaconda3\\lib\\site-packages\\tensorflow\\python\\keras\\engine\\sequential.py:455: UserWarning: `model.predict_classes()` is deprecated and will be removed after 2021-01-01. Please use instead:* `np.argmax(model.predict(x), axis=-1)`,   if your model does multi-class classification   (e.g. if it uses a `softmax` last-layer activation).* `(model.predict(x) > 0.5).astype(\"int32\")`,   if your model does binary classification   (e.g. if it uses a `sigmoid` last-layer activation).\n",
      "  warnings.warn('`model.predict_classes()` is deprecated and '\n"
     ]
    },
    {
     "data": {
      "text/plain": [
       "array([[1],\n",
       "       [0],\n",
       "       [0],\n",
       "       [0],\n",
       "       [0],\n",
       "       [1],\n",
       "       [1],\n",
       "       [1],\n",
       "       [1],\n",
       "       [1],\n",
       "       [0],\n",
       "       [1],\n",
       "       [0],\n",
       "       [1],\n",
       "       [1],\n",
       "       [0],\n",
       "       [1],\n",
       "       [0],\n",
       "       [1],\n",
       "       [1],\n",
       "       [0],\n",
       "       [1],\n",
       "       [1],\n",
       "       [1],\n",
       "       [1],\n",
       "       [1],\n",
       "       [1],\n",
       "       [0],\n",
       "       [1],\n",
       "       [0],\n",
       "       [1],\n",
       "       [1],\n",
       "       [0],\n",
       "       [0],\n",
       "       [1],\n",
       "       [1],\n",
       "       [0],\n",
       "       [0],\n",
       "       [1],\n",
       "       [1],\n",
       "       [1],\n",
       "       [0],\n",
       "       [1],\n",
       "       [0],\n",
       "       [0],\n",
       "       [0],\n",
       "       [0],\n",
       "       [1],\n",
       "       [0],\n",
       "       [0],\n",
       "       [1],\n",
       "       [0],\n",
       "       [1],\n",
       "       [0],\n",
       "       [1],\n",
       "       [1],\n",
       "       [0],\n",
       "       [1],\n",
       "       [0],\n",
       "       [1],\n",
       "       [0],\n",
       "       [1],\n",
       "       [0],\n",
       "       [1],\n",
       "       [1],\n",
       "       [1],\n",
       "       [0],\n",
       "       [0],\n",
       "       [0],\n",
       "       [1],\n",
       "       [1],\n",
       "       [1],\n",
       "       [0],\n",
       "       [0],\n",
       "       [1],\n",
       "       [1],\n",
       "       [0],\n",
       "       [0],\n",
       "       [0],\n",
       "       [1],\n",
       "       [1],\n",
       "       [1],\n",
       "       [1],\n",
       "       [1],\n",
       "       [1],\n",
       "       [1],\n",
       "       [1],\n",
       "       [1],\n",
       "       [1],\n",
       "       [1],\n",
       "       [0],\n",
       "       [0],\n",
       "       [0],\n",
       "       [0],\n",
       "       [0],\n",
       "       [1],\n",
       "       [0],\n",
       "       [0],\n",
       "       [0],\n",
       "       [0],\n",
       "       [0],\n",
       "       [1],\n",
       "       [1],\n",
       "       [0],\n",
       "       [0],\n",
       "       [0],\n",
       "       [1],\n",
       "       [0],\n",
       "       [0],\n",
       "       [1],\n",
       "       [1],\n",
       "       [1],\n",
       "       [1],\n",
       "       [0],\n",
       "       [1],\n",
       "       [0],\n",
       "       [0],\n",
       "       [1],\n",
       "       [1],\n",
       "       [1],\n",
       "       [0],\n",
       "       [0],\n",
       "       [0],\n",
       "       [0],\n",
       "       [1],\n",
       "       [0],\n",
       "       [1],\n",
       "       [1],\n",
       "       [1],\n",
       "       [0],\n",
       "       [1],\n",
       "       [0],\n",
       "       [0],\n",
       "       [0],\n",
       "       [1],\n",
       "       [0],\n",
       "       [0],\n",
       "       [0],\n",
       "       [0],\n",
       "       [0],\n",
       "       [1],\n",
       "       [0],\n",
       "       [0],\n",
       "       [0],\n",
       "       [1],\n",
       "       [1],\n",
       "       [1],\n",
       "       [1],\n",
       "       [1],\n",
       "       [1],\n",
       "       [0],\n",
       "       [0],\n",
       "       [1],\n",
       "       [1],\n",
       "       [1],\n",
       "       [0],\n",
       "       [1],\n",
       "       [1],\n",
       "       [0],\n",
       "       [1],\n",
       "       [1],\n",
       "       [0],\n",
       "       [1],\n",
       "       [1],\n",
       "       [1],\n",
       "       [0],\n",
       "       [0],\n",
       "       [1],\n",
       "       [1],\n",
       "       [1],\n",
       "       [0],\n",
       "       [0],\n",
       "       [0],\n",
       "       [1],\n",
       "       [1],\n",
       "       [1],\n",
       "       [0],\n",
       "       [0]])"
      ]
     },
     "execution_count": 67,
     "metadata": {},
     "output_type": "execute_result"
    }
   ],
   "source": [
    "model.predict_classes(x_test.values)"
   ]
  },
  {
   "cell_type": "code",
   "execution_count": 121,
   "id": "729b8d13",
   "metadata": {},
   "outputs": [
    {
     "data": {
      "text/plain": [
       "array([[ 51. , 140. , 308. , 142. ,   1.5,   0. ,   0. ,   1. ,   0. ,\n",
       "          0. ,   0. ,   0. ,   0. ,   0. ,   1. ]])"
      ]
     },
     "execution_count": 121,
     "metadata": {},
     "output_type": "execute_result"
    }
   ],
   "source": [
    "x_new = x_test.values[-1:]\n",
    "x_new"
   ]
  },
  {
   "cell_type": "code",
   "execution_count": 122,
   "id": "eb61c3b4",
   "metadata": {},
   "outputs": [
    {
     "data": {
      "text/plain": [
       "array([[0]])"
      ]
     },
     "execution_count": 122,
     "metadata": {},
     "output_type": "execute_result"
    }
   ],
   "source": [
    "model.predict_classes(x_new)"
   ]
  },
  {
   "cell_type": "markdown",
   "id": "2248682f",
   "metadata": {},
   "source": [
    "#### Model Saving"
   ]
  },
  {
   "cell_type": "code",
   "execution_count": 77,
   "id": "02a29526",
   "metadata": {},
   "outputs": [],
   "source": [
    "model.save('Heart_prediction_ANN.h5')"
   ]
  },
  {
   "cell_type": "code",
   "execution_count": 78,
   "id": "84565079",
   "metadata": {},
   "outputs": [],
   "source": [
    "model.save(\"C:\\Lachin\\DataSets\\Heart Failure Prediction\\Heart_prediction_ANN.h5\")"
   ]
  },
  {
   "cell_type": "code",
   "execution_count": null,
   "id": "51b99735",
   "metadata": {},
   "outputs": [],
   "source": []
  }
 ],
 "metadata": {
  "kernelspec": {
   "display_name": "Python 3",
   "language": "python",
   "name": "python3"
  },
  "language_info": {
   "codemirror_mode": {
    "name": "ipython",
    "version": 3
   },
   "file_extension": ".py",
   "mimetype": "text/x-python",
   "name": "python",
   "nbconvert_exporter": "python",
   "pygments_lexer": "ipython3",
   "version": "3.8.8"
  }
 },
 "nbformat": 4,
 "nbformat_minor": 5
}
